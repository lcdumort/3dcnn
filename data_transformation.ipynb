{
 "cells": [
  {
   "cell_type": "markdown",
   "metadata": {},
   "source": [
    "* code working => rotate in 1D\n",
    "* use 2D to train model\n",
    "* normalise everything (to have equal weight) => ask because something goes wrong\n",
    "* read about CNN => interprete the filters\n",
    "* calculate correlation function (not for all functions)\n",
    "* not use all lambdas => use in between to check\n",
    "* Q ~ $\\frac{2\\pi}{l}$, q ~ $ \\lambda_0$ => inelastic scattering"
   ]
  },
  {
   "cell_type": "code",
   "execution_count": 1,
   "metadata": {},
   "outputs": [
    {
     "name": "stdout",
     "output_type": "stream",
     "text": [
      "Currently using Python 3.6.9\n"
     ]
    }
   ],
   "source": [
    "#Should be version 3.6.9\n",
    "from platform import python_version\n",
    "print('Currently using Python',python_version())"
   ]
  },
  {
   "cell_type": "code",
   "execution_count": 2,
   "metadata": {
    "scrolled": true
   },
   "outputs": [
    {
     "data": {
      "text/plain": [
       "['AnalyseSimulation',\n",
       " 'GetHydroSamples',\n",
       " 'GetRandomSamples',\n",
       " 'MultipleAnalysis',\n",
       " 'RandomRotateSamples',\n",
       " 'ReadFile']"
      ]
     },
     "execution_count": 2,
     "metadata": {},
     "output_type": "execute_result"
    }
   ],
   "source": [
    "#importing libraries\n",
    "import h5py\n",
    "import numpy as np\n",
    "import matplotlib.pyplot as plt\n",
    "import sys\n",
    "import source_code as sc\n",
    "import importlib\n",
    "\n",
    "#path to the datafile\n",
    "hdf5_path = 'data/dataset.hdf5'\n",
    "\n",
    "dir(sc)[:6]"
   ]
  },
  {
   "cell_type": "code",
   "execution_count": 3,
   "metadata": {},
   "outputs": [],
   "source": [
    "x_train, y_train = sc.ReadFile(hdf5_path,split=False)"
   ]
  },
  {
   "cell_type": "code",
   "execution_count": 4,
   "metadata": {},
   "outputs": [
    {
     "name": "stdout",
     "output_type": "stream",
     "text": [
      "> SHAPE OF XTRAIN:  (25600, 32, 32, 32, 3)\n",
      "> SHAPE OF YTRAIN:  (25600,)\n"
     ]
    }
   ],
   "source": [
    "#print('> SHAPE OF XTEST: ',x_test.shape)\n",
    "print('> SHAPE OF XTRAIN: ',x_train.shape)\n",
    "#print('> SHAPE OF YTEST: ',y_test.shape)\n",
    "print('> SHAPE OF YTRAIN: ',y_train.shape)"
   ]
  },
  {
   "cell_type": "code",
   "execution_count": 5,
   "metadata": {},
   "outputs": [],
   "source": [
    "importlib.reload(sc)\n",
    "x_train = sc.Scale(x_train)"
   ]
  },
  {
   "cell_type": "code",
   "execution_count": 6,
   "metadata": {},
   "outputs": [
    {
     "name": "stdout",
     "output_type": "stream",
     "text": [
      "> MEAN:  [0.16103153 0.16       0.16006407]\n",
      "> STDev:  [0.9831429 1.1313708 1.1313862]\n"
     ]
    }
   ],
   "source": [
    "#Something wrong with the scaling\n",
    "print('> MEAN: ',np.mean(x_train,axis=(0,1,2,3)))\n",
    "print('> STDev: ',np.std(x_train,axis=(0,1,2,3)))"
   ]
  },
  {
   "cell_type": "code",
   "execution_count": 7,
   "metadata": {},
   "outputs": [],
   "source": [
    "sample = x_train[50]"
   ]
  },
  {
   "cell_type": "code",
   "execution_count": 8,
   "metadata": {},
   "outputs": [
    {
     "data": {
      "text/plain": [
       "array([[[[0.51835567, 4.5026584 , 4.7884164 ],\n",
       "         [0.6579456 , 4.3771257 , 4.945089  ],\n",
       "         [0.13447861, 4.5222383 , 4.744265  ],\n",
       "         ...,\n",
       "         [0.57578367, 4.4116325 , 4.940638  ],\n",
       "         [0.6250659 , 4.4154935 , 4.7626305 ],\n",
       "         [0.18437132, 4.5586824 , 4.7395473 ]],\n",
       "\n",
       "        [[0.6567258 , 4.413365  , 4.740665  ],\n",
       "         [0.4493933 , 4.278449  , 4.8467684 ],\n",
       "         [0.7263034 , 4.391565  , 4.8048906 ],\n",
       "         ...,\n",
       "         [0.29804733, 4.518844  , 4.8032007 ],\n",
       "         [0.40359518, 4.407609  , 4.700238  ],\n",
       "         [0.45227292, 4.440751  , 4.8373423 ]],\n",
       "\n",
       "        [[0.21915583, 4.710074  , 4.8001823 ],\n",
       "         [0.10797764, 4.8476067 , 4.503064  ],\n",
       "         [0.5689638 , 4.4429927 , 4.7458982 ],\n",
       "         ...,\n",
       "         [0.3829871 , 4.4337583 , 4.7986546 ],\n",
       "         [0.40646416, 4.604765  , 4.845804  ],\n",
       "         [0.43028072, 4.45577   , 4.796735  ]],\n",
       "\n",
       "        ...,\n",
       "\n",
       "        [[0.33376625, 4.6001263 , 4.766059  ],\n",
       "         [0.54813826, 4.532583  , 4.865554  ],\n",
       "         [0.5089744 , 4.5158176 , 4.8583913 ],\n",
       "         ...,\n",
       "         [0.56155527, 4.3640866 , 4.730656  ],\n",
       "         [0.43078983, 4.3737316 , 4.8867555 ],\n",
       "         [0.5386456 , 4.4511175 , 4.758056  ]],\n",
       "\n",
       "        [[0.35311913, 4.4781785 , 4.849013  ],\n",
       "         [0.16936761, 4.564997  , 4.844916  ],\n",
       "         [0.19359511, 4.693457  , 4.705243  ],\n",
       "         ...,\n",
       "         [0.42849353, 4.56342   , 4.8013954 ],\n",
       "         [0.47741523, 4.4789557 , 4.768972  ],\n",
       "         [0.41258937, 4.5538883 , 4.835939  ]],\n",
       "\n",
       "        [[0.20511943, 4.680347  , 4.8738055 ],\n",
       "         [0.32611963, 4.4842806 , 4.5659523 ],\n",
       "         [0.14828277, 4.6964693 , 4.7499    ],\n",
       "         ...,\n",
       "         [0.3306416 , 4.4804697 , 4.855001  ],\n",
       "         [0.07565484, 4.536911  , 4.840275  ],\n",
       "         [0.504716  , 4.395277  , 4.807527  ]]],\n",
       "\n",
       "\n",
       "       [[[0.4709825 , 4.4823713 , 4.8533773 ],\n",
       "         [0.27577615, 4.4721394 , 4.7727537 ],\n",
       "         [0.1767077 , 4.814669  , 4.7476554 ],\n",
       "         ...,\n",
       "         [0.25158682, 4.5899296 , 4.762936  ],\n",
       "         [0.22451416, 4.6849575 , 4.753816  ],\n",
       "         [0.55816126, 4.4491377 , 4.782648  ]],\n",
       "\n",
       "        [[0.48648894, 4.4401503 , 5.002362  ],\n",
       "         [0.5487057 , 4.661072  , 4.810268  ],\n",
       "         [0.4933194 , 4.4759865 , 4.8222914 ],\n",
       "         ...,\n",
       "         [0.10573862, 4.669161  , 4.8352227 ],\n",
       "         [0.27046505, 4.575257  , 4.7642255 ],\n",
       "         [0.22173636, 4.613137  , 4.791119  ]],\n",
       "\n",
       "        [[0.48777765, 4.479762  , 4.8241158 ],\n",
       "         [0.44410607, 4.4847546 , 4.848927  ],\n",
       "         [0.1458417 , 4.4189367 , 4.796391  ],\n",
       "         ...,\n",
       "         [0.16443832, 4.657628  , 4.826159  ],\n",
       "         [0.86313033, 4.3589883 , 4.8470645 ],\n",
       "         [0.06217685, 4.7085114 , 4.641543  ]],\n",
       "\n",
       "        ...,\n",
       "\n",
       "        [[0.44197947, 4.5270042 , 4.798893  ],\n",
       "         [0.17011163, 4.675171  , 4.7896576 ],\n",
       "         [0.3402176 , 4.431799  , 4.843674  ],\n",
       "         ...,\n",
       "         [0.04422722, 4.697014  , 4.8326344 ],\n",
       "         [0.21718942, 4.6505075 , 4.600219  ],\n",
       "         [0.31953257, 4.294585  , 4.876327  ]],\n",
       "\n",
       "        [[0.27125993, 4.5369177 , 4.8705106 ],\n",
       "         [0.50812584, 4.2513456 , 4.904204  ],\n",
       "         [0.30596498, 4.62969   , 4.8970985 ],\n",
       "         ...,\n",
       "         [0.11456206, 4.719747  , 4.770538  ],\n",
       "         [0.41559625, 4.563406  , 4.910746  ],\n",
       "         [0.17624475, 4.6503587 , 4.8089023 ]],\n",
       "\n",
       "        [[0.19320638, 4.5600257 , 4.844687  ],\n",
       "         [0.31363648, 4.655047  , 4.7728877 ],\n",
       "         [0.5992289 , 4.5293655 , 4.880185  ],\n",
       "         ...,\n",
       "         [0.50922894, 4.5109386 , 4.8583627 ],\n",
       "         [0.55414146, 4.439882  , 4.793822  ],\n",
       "         [0.34959936, 4.530391  , 4.827544  ]]],\n",
       "\n",
       "\n",
       "       [[[0.27815092, 4.5179744 , 4.8482013 ],\n",
       "         [0.302765  , 4.559411  , 4.944363  ],\n",
       "         [0.46580663, 4.452503  , 4.7194157 ],\n",
       "         ...,\n",
       "         [0.3237258 , 4.533856  , 4.839673  ],\n",
       "         [0.29966262, 4.603994  , 4.7611217 ],\n",
       "         [0.44768038, 4.331659  , 4.856204  ]],\n",
       "\n",
       "        [[0.48405483, 4.515125  , 4.819598  ],\n",
       "         [0.427714  , 4.4571066 , 4.758323  ],\n",
       "         [0.4471766 , 4.45239   , 4.8316984 ],\n",
       "         ...,\n",
       "         [0.3598451 , 4.4892726 , 4.954085  ],\n",
       "         [0.4853859 , 4.5306315 , 4.8698997 ],\n",
       "         [0.28327584, 4.5861535 , 4.8560996 ]],\n",
       "\n",
       "        [[0.3196365 , 4.480229  , 4.832968  ],\n",
       "         [0.11325852, 4.552149  , 4.6557436 ],\n",
       "         [0.6745021 , 4.366922  , 4.8175735 ],\n",
       "         ...,\n",
       "         [0.69523746, 4.3409925 , 4.880443  ],\n",
       "         [0.2750098 , 4.689561  , 4.803162  ],\n",
       "         [0.5652462 , 4.47419   , 4.7648654 ]],\n",
       "\n",
       "        ...,\n",
       "\n",
       "        [[0.1708106 , 4.618136  , 4.697355  ],\n",
       "         [0.3388154 , 4.5170197 , 4.810678  ],\n",
       "         [0.52182925, 4.475838  , 4.7535195 ],\n",
       "         ...,\n",
       "         [0.6036253 , 4.421574  , 4.7450867 ],\n",
       "         [0.17013657, 4.591966  , 4.8398256 ],\n",
       "         [0.07038084, 4.661559  , 4.816972  ]],\n",
       "\n",
       "        [[0.49014816, 4.4045687 , 4.9323673 ],\n",
       "         [0.39501464, 4.4880285 , 4.746634  ],\n",
       "         [0.40132543, 4.472394  , 4.6902204 ],\n",
       "         ...,\n",
       "         [0.36139256, 4.484408  , 4.8454223 ],\n",
       "         [0.2598237 , 4.6873336 , 4.804958  ],\n",
       "         [0.6365632 , 4.4610662 , 4.794328  ]],\n",
       "\n",
       "        [[0.47146508, 4.4309506 , 4.810019  ],\n",
       "         [0.160637  , 4.5997014 , 4.771694  ],\n",
       "         [0.21193452, 4.3715115 , 4.7815785 ],\n",
       "         ...,\n",
       "         [0.4979226 , 4.403402  , 4.778436  ],\n",
       "         [0.24174468, 4.582427  , 4.7850356 ],\n",
       "         [0.29605758, 4.5289135 , 4.838479  ]]],\n",
       "\n",
       "\n",
       "       ...,\n",
       "\n",
       "\n",
       "       [[[0.26046327, 4.615774  , 4.8752856 ],\n",
       "         [0.29376927, 4.5057626 , 4.873519  ],\n",
       "         [0.2668695 , 4.463202  , 4.745316  ],\n",
       "         ...,\n",
       "         [0.37942335, 4.5600185 , 4.9204106 ],\n",
       "         [0.4072809 , 4.4618797 , 4.7846828 ],\n",
       "         [0.24234605, 4.6937895 , 4.7470922 ]],\n",
       "\n",
       "        [[0.3811628 , 4.4499083 , 4.819493  ],\n",
       "         [0.52549374, 4.372501  , 4.8500447 ],\n",
       "         [0.27091634, 4.506717  , 4.839033  ],\n",
       "         ...,\n",
       "         [0.8410586 , 4.35633   , 4.7518196 ],\n",
       "         [0.33895063, 4.652848  , 4.8068295 ],\n",
       "         [0.3780657 , 4.4549284 , 4.8095703 ]],\n",
       "\n",
       "        [[0.4637119 , 4.599143  , 4.9511724 ],\n",
       "         [0.23439343, 4.520527  , 4.727753  ],\n",
       "         [0.4208676 , 4.573383  , 4.7439504 ],\n",
       "         ...,\n",
       "         [0.40966204, 4.4204006 , 4.79747   ],\n",
       "         [0.39024183, 4.3738656 , 4.82296   ],\n",
       "         [0.41027182, 4.521821  , 4.7875857 ]],\n",
       "\n",
       "        ...,\n",
       "\n",
       "        [[0.15932605, 4.553556  , 4.8707204 ],\n",
       "         [0.39852005, 4.4844856 , 4.813171  ],\n",
       "         [0.25942436, 4.531494  , 4.7650657 ],\n",
       "         ...,\n",
       "         [0.45895493, 4.30044   , 4.8558125 ],\n",
       "         [0.17530397, 4.539732  , 4.9414883 ],\n",
       "         [0.3347452 , 4.553535  , 4.896086  ]],\n",
       "\n",
       "        [[0.7910179 , 4.3724236 , 4.7874327 ],\n",
       "         [0.50018704, 4.3718934 , 4.7880154 ],\n",
       "         [0.3690928 , 4.3888    , 4.8291297 ],\n",
       "         ...,\n",
       "         [0.28240192, 4.440603  , 4.8359103 ],\n",
       "         [0.5390539 , 4.4279737 , 4.880959  ],\n",
       "         [0.29223508, 4.519742  , 4.887701  ]],\n",
       "\n",
       "        [[0.43923774, 4.465677  , 4.7596507 ],\n",
       "         [0.33552954, 4.592687  , 4.8057885 ],\n",
       "         [0.27685538, 4.628311  , 4.7605295 ],\n",
       "         ...,\n",
       "         [0.36620787, 4.4885445 , 4.8707876 ],\n",
       "         [0.27306938, 4.5813737 , 4.7751417 ],\n",
       "         [0.25051665, 4.500452  , 4.797967  ]]],\n",
       "\n",
       "\n",
       "       [[[0.32995486, 4.4889617 , 4.8277445 ],\n",
       "         [0.13797125, 4.676762  , 4.7732697 ],\n",
       "         [0.17150107, 4.6305246 , 4.7191577 ],\n",
       "         ...,\n",
       "         [0.03684097, 4.61617   , 4.7506356 ],\n",
       "         [0.19357868, 4.5879    , 4.987081  ],\n",
       "         [0.28816277, 4.636344  , 4.9006705 ]],\n",
       "\n",
       "        [[0.40506414, 4.452037  , 4.780795  ],\n",
       "         [0.58621496, 4.4212914 , 4.862603  ],\n",
       "         [0.5908022 , 4.3719354 , 4.741362  ],\n",
       "         ...,\n",
       "         [0.15925977, 4.7101097 , 4.8701954 ],\n",
       "         [0.32900506, 4.5087256 , 4.763328  ],\n",
       "         [0.9048769 , 4.410473  , 4.938069  ]],\n",
       "\n",
       "        [[0.35115796, 4.5301366 , 4.683058  ],\n",
       "         [0.24146996, 4.4235616 , 4.908062  ],\n",
       "         [0.4491865 , 4.583445  , 4.8290143 ],\n",
       "         ...,\n",
       "         [0.30589548, 4.505126  , 4.831087  ],\n",
       "         [0.50412726, 4.5696425 , 4.8796597 ],\n",
       "         [0.23252301, 4.47064   , 4.73079   ]],\n",
       "\n",
       "        ...,\n",
       "\n",
       "        [[0.36190698, 4.5049844 , 4.9334087 ],\n",
       "         [0.2599393 , 4.66192   , 4.8927917 ],\n",
       "         [0.2968149 , 4.4207826 , 4.875076  ],\n",
       "         ...,\n",
       "         [0.4030861 , 4.35027   , 4.7254705 ],\n",
       "         [0.31348324, 4.5682425 , 4.7617807 ],\n",
       "         [0.46714303, 4.487922  , 4.8474755 ]],\n",
       "\n",
       "        [[0.3044477 , 4.491479  , 4.832491  ],\n",
       "         [0.34963754, 4.4807096 , 4.85991   ],\n",
       "         [0.22227784, 4.584506  , 4.678426  ],\n",
       "         ...,\n",
       "         [0.1594496 , 4.65458   , 4.748802  ],\n",
       "         [0.3413975 , 4.489096  , 4.8858676 ],\n",
       "         [0.13502537, 4.5922914 , 4.8270664 ]],\n",
       "\n",
       "        [[0.27200505, 4.3631816 , 4.7696214 ],\n",
       "         [0.3507125 , 4.374333  , 4.770147  ],\n",
       "         [0.761999  , 4.385116  , 4.7946053 ],\n",
       "         ...,\n",
       "         [0.53174615, 4.3159328 , 4.87032   ],\n",
       "         [0.367645  , 4.5209584 , 4.8603396 ],\n",
       "         [0.26114312, 4.5602875 , 4.831221  ]]],\n",
       "\n",
       "\n",
       "       [[[0.47293934, 4.4371023 , 4.874149  ],\n",
       "         [0.5485996 , 4.3130198 , 4.83421   ],\n",
       "         [0.313374  , 4.511935  , 4.8159313 ],\n",
       "         ...,\n",
       "         [0.37914225, 4.498154  , 4.794977  ],\n",
       "         [0.46259293, 4.3264756 , 4.801147  ],\n",
       "         [0.28123945, 4.6916747 , 4.7920837 ]],\n",
       "\n",
       "        [[0.34362856, 4.496351  , 4.8320994 ],\n",
       "         [0.15233488, 4.646986  , 4.7084327 ],\n",
       "         [0.391435  , 4.5496454 , 4.8162937 ],\n",
       "         ...,\n",
       "         [0.21558045, 4.5383177 , 4.786163  ],\n",
       "         [0.26725504, 4.648881  , 4.6714544 ],\n",
       "         [0.11267093, 4.5745783 , 4.9875684 ]],\n",
       "\n",
       "        [[0.5328121 , 4.4553957 , 4.7900114 ],\n",
       "         [0.52959836, 4.574168  , 4.8242583 ],\n",
       "         [0.59418035, 4.3823156 , 4.835843  ],\n",
       "         ...,\n",
       "         [0.18345547, 4.7307496 , 4.8132377 ],\n",
       "         [0.30636957, 4.5006504 , 4.8835845 ],\n",
       "         [0.28562412, 4.6237082 , 4.7330723 ]],\n",
       "\n",
       "        ...,\n",
       "\n",
       "        [[0.3502469 , 4.4502335 , 4.779974  ],\n",
       "         [0.11689862, 4.5475245 , 4.846931  ],\n",
       "         [0.32766977, 4.415988  , 4.821021  ],\n",
       "         ...,\n",
       "         [0.2988863 , 4.581522  , 4.8539124 ],\n",
       "         [0.5537066 , 4.2840137 , 4.8090644 ],\n",
       "         [0.26637307, 4.55543   , 4.8140783 ]],\n",
       "\n",
       "        [[0.5012106 , 4.367891  , 4.952156  ],\n",
       "         [0.5550907 , 4.490899  , 4.8237047 ],\n",
       "         [0.6398246 , 4.3151765 , 4.910555  ],\n",
       "         ...,\n",
       "         [0.48581547, 4.468604  , 4.837314  ],\n",
       "         [0.231045  , 4.6032586 , 4.6687613 ],\n",
       "         [0.4601004 , 4.5028563 , 4.7773385 ]],\n",
       "\n",
       "        [[0.3301442 , 4.4862323 , 4.8345156 ],\n",
       "         [0.04698752, 4.734066  , 4.693305  ],\n",
       "         [0.4845692 , 4.4841676 , 4.771875  ],\n",
       "         ...,\n",
       "         [0.35493067, 4.56791   , 4.8780265 ],\n",
       "         [0.47692737, 4.400524  , 4.851066  ],\n",
       "         [0.32354227, 4.3011403 , 4.8674545 ]]]], dtype=float32)"
      ]
     },
     "execution_count": 8,
     "metadata": {},
     "output_type": "execute_result"
    }
   ],
   "source": [
    "sample"
   ]
  },
  {
   "cell_type": "code",
   "execution_count": 9,
   "metadata": {},
   "outputs": [],
   "source": [
    "test=np.flip(sample)"
   ]
  },
  {
   "cell_type": "code",
   "execution_count": 10,
   "metadata": {
    "scrolled": false
   },
   "outputs": [
    {
     "data": {
      "image/png": "[encoded data removed]",
      "text/plain": [
       "<Figure size 504x504 with 1 Axes>"
      ]
     },
     "metadata": {
      "needs_background": "light"
     },
     "output_type": "display_data"
    },
    {
     "data": {
      "image/png": "[encoded data removed]",
      "text/plain": [
       "<Figure size 504x504 with 1 Axes>"
      ]
     },
     "metadata": {
      "needs_background": "light"
     },
     "output_type": "display_data"
    }
   ],
   "source": [
    "sc.TwoDimHeatmap(test,z=28,c=2)\n",
    "sc.TwoDimHeatmap(sample,z=3,c=0)"
   ]
  },
  {
   "cell_type": "code",
   "execution_count": 11,
   "metadata": {},
   "outputs": [
    {
     "data": {
      "text/plain": [
       "25600"
      ]
     },
     "execution_count": 11,
     "metadata": {},
     "output_type": "execute_result"
    }
   ],
   "source": [
    "x_train.shape[0]"
   ]
  },
  {
   "cell_type": "code",
   "execution_count": 12,
   "metadata": {},
   "outputs": [],
   "source": [
    "res, vec = sc.RandomRotateSamples(x_train)"
   ]
  },
  {
   "cell_type": "code",
   "execution_count": 13,
   "metadata": {},
   "outputs": [
    {
     "data": {
      "image/png": "[encoded data removed]",
      "text/plain": [
       "<Figure size 504x504 with 1 Axes>"
      ]
     },
     "metadata": {
      "needs_background": "light"
     },
     "output_type": "display_data"
    },
    {
     "data": {
      "image/png": "[encoded data removed]",
      "text/plain": [
       "<Figure size 504x504 with 1 Axes>"
      ]
     },
     "metadata": {
      "needs_background": "light"
     },
     "output_type": "display_data"
    }
   ],
   "source": [
    "#proof that sample is randomly rotated\n",
    "\n",
    "sc.TwoDimHeatmap(sample,z=3,c=0)\n",
    "sc.TwoDimHeatmap(res[50],z=3,c=0)\\"
   ]
  },
  {
   "cell_type": "code",
   "execution_count": 14,
   "metadata": {},
   "outputs": [
    {
     "data": {
      "text/plain": [
       "(32, 32, 32, 3)"
      ]
     },
     "execution_count": 14,
     "metadata": {},
     "output_type": "execute_result"
    }
   ],
   "source": [
    "res[50].shape"
   ]
  }
 ],
 "metadata": {
  "kernelspec": {
   "display_name": "Python 3",
   "language": "python",
   "name": "python3"
  },
  "language_info": {
   "codemirror_mode": {
    "name": "ipython",
    "version": 3
   },
   "file_extension": ".py",
   "mimetype": "text/x-python",
   "name": "python",
   "nbconvert_exporter": "python",
   "pygments_lexer": "ipython3",
   "version": "3.6.9"
  }
 },
 "nbformat": 4,
 "nbformat_minor": 2
}
