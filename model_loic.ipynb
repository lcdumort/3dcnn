{
 "cells": [
  {
   "cell_type": "markdown",
   "metadata": {},
   "source": [
    "## Necessary packages & configurations"
   ]
  },
  {
   "cell_type": "code",
   "execution_count": 15,
   "metadata": {
    "scrolled": true
   },
   "outputs": [
    {
     "name": "stdout",
     "output_type": "stream",
     "text": [
      "1.14.0\n",
      "2.2.5\n"
     ]
    }
   ],
   "source": [
    "import numpy as np\n",
    "import h5py\n",
    "import matplotlib.pyplot as plt\n",
    "import source_code as sc #source code file with functions\n",
    "import importlib #for resetting library\n",
    "\n",
    "import tensorflow as tf\n",
    "import keras\n",
    "\n",
    "#Reproducibility\n",
    "np.random.seed(12345)\n",
    "\n",
    "hdf5file = 'data/dataset.hdf5'\n",
    "\n",
    "print(tf.__version__)\n",
    "print(keras.__version__)"
   ]
  },
  {
   "cell_type": "code",
   "execution_count": 16,
   "metadata": {},
   "outputs": [],
   "source": [
    "from keras.models import Sequential\n",
    "from keras.optimizers import Adam\n",
    "from keras.layers import (Dense,\n",
    "                          Activation,\n",
    "                          Conv3D,\n",
    "                          MaxPooling3D,\n",
    "                          ZeroPadding3D,\n",
    "                          Flatten,\n",
    "                          Dropout)"
   ]
  },
  {
   "cell_type": "code",
   "execution_count": 17,
   "metadata": {},
   "outputs": [
    {
     "name": "stdout",
     "output_type": "stream",
     "text": [
      "1\n"
     ]
    }
   ],
   "source": [
    "import warnings\n",
    "warnings.filterwarnings(\"ignore\")\n",
    "import os\n",
    "import datetime\n",
    "now = datetime.datetime.now()\n",
    "os.environ[\"CUDA_DEVICE_ORDER\"]=\"PCI_BUS_ID\"\n",
    "\n",
    "#LOIC: IS THIS RANDOM SELECTING SOMETHING?\n",
    "igpu = now.second%2; print(igpu)\n",
    "if igpu==0: \n",
    "     os.environ[\"CUDA_VISIBLE_DEVICES\"]=\"0\" \n",
    "else:\n",
    "     os.environ[\"CUDA_VISIBLE_DEVICES\"]=\"1\""
   ]
  },
  {
   "cell_type": "markdown",
   "metadata": {},
   "source": [
    "## Reading in Data and Randomise"
   ]
  },
  {
   "cell_type": "code",
   "execution_count": 18,
   "metadata": {},
   "outputs": [],
   "source": [
    "importlib.reload(sc)\n",
    "#note: test data will only be loaded when model has to be tested\n",
    "x_train,y_train = sc.ReadFile(hdf5file ,split=False)\n",
    "x_test,y_test = sc.ReadFile(hdf5file,data='test',split=False)\n",
    "#Rotate x_train randomly\n",
    "x_train,rotatevector = sc.RandomRotateSamples(x_train)\n",
    "\n",
    "#Scale the Dataset\n",
    "x_train,x_test = sc.Scale(x_train,x_test)"
   ]
  },
  {
   "cell_type": "code",
   "execution_count": 19,
   "metadata": {},
   "outputs": [
    {
     "name": "stdout",
     "output_type": "stream",
     "text": [
      "> SHAPE:  (25600, 32, 32, 32, 3)\n",
      "> MEAN:  [0.16103153 0.16       0.16006407]\n",
      "> STDEV:  [0.98314345 1.1313708  1.1313862 ]\n"
     ]
    }
   ],
   "source": [
    "#Approx. mean 0 and stdev of 1. Should be sufficient\n",
    "\n",
    "print('> SHAPE: ',x_train.shape)\n",
    "print('> MEAN: ',np.mean(x_train,axis=(0,1,2,3)))\n",
    "print('> STDEV: ',np.std(x_train,axis=(0,1,2,3)))"
   ]
  },
  {
   "cell_type": "markdown",
   "metadata": {},
   "source": [
    "## Model-Building"
   ]
  },
  {
   "cell_type": "code",
   "execution_count": 20,
   "metadata": {},
   "outputs": [],
   "source": [
    "#Starting of with a sequential model\n",
    "input_shape = x_train.shape[1:]\n",
    "nclass = np.unique(y_train).size"
   ]
  },
  {
   "cell_type": "code",
   "execution_count": 22,
   "metadata": {},
   "outputs": [
    {
     "name": "stdout",
     "output_type": "stream",
     "text": [
      "WARNING:tensorflow:From /usr/local/lib/python3.6/dist-packages/keras/backend/tensorflow_backend.py:66: The name tf.get_default_graph is deprecated. Please use tf.compat.v1.get_default_graph instead.\n",
      "\n",
      "WARNING:tensorflow:From /usr/local/lib/python3.6/dist-packages/keras/backend/tensorflow_backend.py:541: The name tf.placeholder is deprecated. Please use tf.compat.v1.placeholder instead.\n",
      "\n",
      "WARNING:tensorflow:From /usr/local/lib/python3.6/dist-packages/keras/backend/tensorflow_backend.py:4432: The name tf.random_uniform is deprecated. Please use tf.random.uniform instead.\n",
      "\n",
      "WARNING:tensorflow:From /usr/local/lib/python3.6/dist-packages/keras/backend/tensorflow_backend.py:148: The name tf.placeholder_with_default is deprecated. Please use tf.compat.v1.placeholder_with_default instead.\n",
      "\n",
      "WARNING:tensorflow:From /usr/local/lib/python3.6/dist-packages/keras/backend/tensorflow_backend.py:3733: calling dropout (from tensorflow.python.ops.nn_ops) with keep_prob is deprecated and will be removed in a future version.\n",
      "Instructions for updating:\n",
      "Please use `rate` instead of `keep_prob`. Rate should be set to `rate = 1 - keep_prob`.\n"
     ]
    }
   ],
   "source": [
    "#Model of Stefano but on randomised data\n",
    "model = Sequential()\n",
    "model.add(Conv3D(16, (3, 3, 3), activation='relu', \n",
    "                        padding='same', name='conv1',\n",
    "                        strides=(1, 1, 1), \n",
    "                        input_shape=input_shape))\n",
    "model.add(MaxPooling3D(pool_size=(2, 2, 2), \n",
    "                       strides=(2, 2, 2), \n",
    "                       padding='same', \n",
    "                       name='pool1'))\n",
    "model.add(Conv3D(32, (3, 3, 3), activation='relu', \n",
    "                        padding='same', name='conv2',\n",
    "                        strides=(1, 1, 1)))\n",
    "model.add(MaxPooling3D(pool_size=(2, 2, 2), \n",
    "                       strides=(2, 2, 2), \n",
    "                       padding='same', \n",
    "                       name='pool2'))\n",
    "model.add(Conv3D(64, (3, 3, 3), activation='relu', \n",
    "                        padding='same', name='conv3a',\n",
    "                        strides=(1, 1, 1)))\n",
    "model.add(Conv3D(64, (3, 3, 3), activation='relu', \n",
    "                        padding='same', name='conv3b',\n",
    "                        strides=(1, 1, 1)))\n",
    "model.add(MaxPooling3D(pool_size=(2, 2, 2), \n",
    "                       strides=(2, 2, 2), \n",
    "                       padding='same', \n",
    "                       name='pool3'))\n",
    "model.add(Conv3D(128, (3, 3, 3), activation='relu', \n",
    "                        padding='same', name='conv4a',\n",
    "                        strides=(1, 1, 1)))\n",
    "model.add(Conv3D(128, (3, 3, 3), activation='relu', \n",
    "                        padding='same', name='conv4b',\n",
    "                        strides=(1, 1, 1)))\n",
    "model.add(MaxPooling3D(pool_size=(2, 2, 2), \n",
    "                       strides=(2, 2, 2), \n",
    "                       padding='same', \n",
    "                       name='pool4'))\n",
    "model.add(Conv3D(128, (3, 3, 3), activation='relu', \n",
    "                        padding='same', name='conv5a',\n",
    "                        strides=(1, 1, 1)))\n",
    "model.add(Conv3D(128, (3, 3, 3), activation='relu', \n",
    "                        padding='same', name='conv5b',\n",
    "                        strides=(1, 1, 1)))\n",
    "model.add(ZeroPadding3D(padding=(1, 1, 1)))\n",
    "model.add(MaxPooling3D(pool_size=(2, 2, 2), \n",
    "                       strides=(2, 2, 2), \n",
    "                       padding='same', \n",
    "                       name='pool5'))\n",
    "model.add(Flatten())\n",
    "model.add(Dense(1028, activation='relu', name='fc6'))\n",
    "model.add(Dropout(.5))\n",
    "model.add(Dense(1028, activation='relu', name='fc7'))\n",
    "model.add(Dropout(.5))\n",
    "model.add(Dense(nclass, activation='softmax', name='fc8'))"
   ]
  },
  {
   "cell_type": "code",
   "execution_count": null,
   "metadata": {},
   "outputs": [],
   "source": [
    "optimizer = "
   ]
  }
 ],
 "metadata": {
  "kernelspec": {
   "display_name": "Python 3",
   "language": "python",
   "name": "python3"
  },
  "language_info": {
   "codemirror_mode": {
    "name": "ipython",
    "version": 3
   },
   "file_extension": ".py",
   "mimetype": "text/x-python",
   "name": "python",
   "nbconvert_exporter": "python",
   "pygments_lexer": "ipython3",
   "version": "3.6.9"
  }
 },
 "nbformat": 4,
 "nbformat_minor": 2
}
