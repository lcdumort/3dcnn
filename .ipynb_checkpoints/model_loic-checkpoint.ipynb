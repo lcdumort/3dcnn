{
 "cells": [
  {
   "cell_type": "markdown",
   "metadata": {},
   "source": [
    "## Necessary packages & configurations"
   ]
  },
  {
   "cell_type": "code",
   "execution_count": 52,
   "metadata": {
    "scrolled": true
   },
   "outputs": [
    {
     "name": "stdout",
     "output_type": "stream",
     "text": [
      "1.14.0\n",
      "2.2.5\n"
     ]
    }
   ],
   "source": [
    "import numpy as np\n",
    "import h5py\n",
    "import matplotlib.pyplot as plt\n",
    "import source_code as sc #source code file with functions\n",
    "import importlib #for resetting library\n",
    "\n",
    "import tensorflow as tf\n",
    "import keras\n",
    "\n",
    "#Reproducibility\n",
    "np.random.seed(12345)\n",
    "\n",
    "hdffile = 'data/dataset.hdf'\n",
    "\n",
    "print(tf.__version__)\n",
    "print(keras.__version__)"
   ]
  },
  {
   "cell_type": "code",
   "execution_count": 36,
   "metadata": {},
   "outputs": [],
   "source": [
    "from keras.models import Sequential\n",
    "\n",
    "from keras.layers import (Dense,\n",
    "                          Activation,\n",
    "                          Conv3D,\n",
    "                          MaxPooling3D,\n",
    "                          ZeroPadding3D,\n",
    "                          Flatten,\n",
    "                          Dropout)"
   ]
  },
  {
   "cell_type": "code",
   "execution_count": 34,
   "metadata": {},
   "outputs": [
    {
     "name": "stdout",
     "output_type": "stream",
     "text": [
      "0\n"
     ]
    }
   ],
   "source": [
    "import warnings\n",
    "warnings.filterwarnings(\"ignore\")\n",
    "import os\n",
    "import datetime\n",
    "now = datetime.datetime.now()\n",
    "os.environ[\"CUDA_DEVICE_ORDER\"]=\"PCI_BUS_ID\"\n",
    "\n",
    "#LOIC: IS THIS RANDOM SELECTING SOMETHING?\n",
    "igpu = now.second%2; print(igpu)\n",
    "if igpu==0: \n",
    "     os.environ[\"CUDA_VISIBLE_DEVICES\"]=\"0\" \n",
    "else:\n",
    "     os.environ[\"CUDA_VISIBLE_DEVICES\"]=\"1\""
   ]
  },
  {
   "cell_type": "markdown",
   "metadata": {},
   "source": [
    "## Reading in Data and Randomise"
   ]
  },
  {
   "cell_type": "code",
   "execution_count": 53,
   "metadata": {},
   "outputs": [
    {
     "ename": "KeyboardInterrupt",
     "evalue": "",
     "output_type": "error",
     "traceback": [
      "\u001b[0;31m---------------------------------------------------------------------------\u001b[0m",
      "\u001b[0;31mKeyboardInterrupt\u001b[0m                         Traceback (most recent call last)",
      "\u001b[0;32m<ipython-input-53-596ee21ebb9f>\u001b[0m in \u001b[0;36m<module>\u001b[0;34m\u001b[0m\n\u001b[1;32m      1\u001b[0m \u001b[0mimportlib\u001b[0m\u001b[0;34m.\u001b[0m\u001b[0mreload\u001b[0m\u001b[0;34m(\u001b[0m\u001b[0msc\u001b[0m\u001b[0;34m)\u001b[0m\u001b[0;34m\u001b[0m\u001b[0;34m\u001b[0m\u001b[0m\n\u001b[1;32m      2\u001b[0m \u001b[0;31m#note: test data will only be loaded when model has to be tested\u001b[0m\u001b[0;34m\u001b[0m\u001b[0;34m\u001b[0m\u001b[0;34m\u001b[0m\u001b[0m\n\u001b[0;32m----> 3\u001b[0;31m \u001b[0mx_train\u001b[0m\u001b[0;34m,\u001b[0m\u001b[0my_train\u001b[0m \u001b[0;34m=\u001b[0m \u001b[0msc\u001b[0m\u001b[0;34m.\u001b[0m\u001b[0mReadFile\u001b[0m\u001b[0;34m(\u001b[0m\u001b[0mhdf5file\u001b[0m\u001b[0;34m,\u001b[0m\u001b[0;34m''\u001b[0m \u001b[0;34m,\u001b[0m\u001b[0msplit\u001b[0m\u001b[0;34m=\u001b[0m\u001b[0;32mFalse\u001b[0m\u001b[0;34m)\u001b[0m\u001b[0;34m\u001b[0m\u001b[0;34m\u001b[0m\u001b[0m\n\u001b[0m\u001b[1;32m      4\u001b[0m \u001b[0mx_test\u001b[0m\u001b[0;34m,\u001b[0m\u001b[0my_test\u001b[0m \u001b[0;34m=\u001b[0m \u001b[0msc\u001b[0m\u001b[0;34m.\u001b[0m\u001b[0mReadFile\u001b[0m\u001b[0;34m(\u001b[0m\u001b[0mhdf5file\u001b[0m\u001b[0;34m)\u001b[0m\u001b[0;34m\u001b[0m\u001b[0;34m\u001b[0m\u001b[0m\n\u001b[1;32m      5\u001b[0m \u001b[0;31m#Rotate x_train randomly\u001b[0m\u001b[0;34m\u001b[0m\u001b[0;34m\u001b[0m\u001b[0;34m\u001b[0m\u001b[0m\n",
      "\u001b[0;32m/users/dumortier/3dcnn/source_code.py\u001b[0m in \u001b[0;36mReadFile\u001b[0;34m(hdf5_path, data, split)\u001b[0m\n\u001b[1;32m     28\u001b[0m     \u001b[0;32melse\u001b[0m\u001b[0;34m:\u001b[0m\u001b[0;34m\u001b[0m\u001b[0;34m\u001b[0m\u001b[0m\n\u001b[1;32m     29\u001b[0m         \u001b[0;32mwith\u001b[0m \u001b[0mh5py\u001b[0m\u001b[0;34m.\u001b[0m\u001b[0mFile\u001b[0m\u001b[0;34m(\u001b[0m\u001b[0mhdf5_path\u001b[0m\u001b[0;34m)\u001b[0m \u001b[0;32mas\u001b[0m \u001b[0mfile\u001b[0m\u001b[0;34m:\u001b[0m\u001b[0;34m\u001b[0m\u001b[0;34m\u001b[0m\u001b[0m\n\u001b[0;32m---> 30\u001b[0;31m             \u001b[0mx_data\u001b[0m \u001b[0;34m=\u001b[0m \u001b[0mfile\u001b[0m\u001b[0;34m[\u001b[0m\u001b[0;34m'test_data'\u001b[0m\u001b[0;34m]\u001b[0m\u001b[0;34m[\u001b[0m\u001b[0;34m:\u001b[0m\u001b[0;34m,\u001b[0m\u001b[0;34m:\u001b[0m\u001b[0;34m,\u001b[0m\u001b[0;34m:\u001b[0m\u001b[0;34m,\u001b[0m\u001b[0;34m:\u001b[0m\u001b[0;34m,\u001b[0m\u001b[0;34m:\u001b[0m\u001b[0;34m]\u001b[0m\u001b[0;34m\u001b[0m\u001b[0;34m\u001b[0m\u001b[0m\n\u001b[0m\u001b[1;32m     31\u001b[0m             \u001b[0my_data\u001b[0m \u001b[0;34m=\u001b[0m \u001b[0mfile\u001b[0m\u001b[0;34m[\u001b[0m\u001b[0;34m'test_labels'\u001b[0m\u001b[0;34m]\u001b[0m\u001b[0;34m[\u001b[0m\u001b[0;34m:\u001b[0m\u001b[0;34m]\u001b[0m\u001b[0;34m\u001b[0m\u001b[0;34m\u001b[0m\u001b[0m\n\u001b[1;32m     32\u001b[0m \u001b[0;34m\u001b[0m\u001b[0m\n",
      "\u001b[0;32mh5py/_objects.pyx\u001b[0m in \u001b[0;36mh5py._objects.with_phil.wrapper\u001b[0;34m()\u001b[0m\n",
      "\u001b[0;32mh5py/_objects.pyx\u001b[0m in \u001b[0;36mh5py._objects.with_phil.wrapper\u001b[0;34m()\u001b[0m\n",
      "\u001b[0;32m~/.local/lib/python3.6/site-packages/h5py/_hl/dataset.py\u001b[0m in \u001b[0;36m__getitem__\u001b[0;34m(self, args)\u001b[0m\n\u001b[1;32m    571\u001b[0m         \u001b[0mmspace\u001b[0m \u001b[0;34m=\u001b[0m \u001b[0mh5s\u001b[0m\u001b[0;34m.\u001b[0m\u001b[0mcreate_simple\u001b[0m\u001b[0;34m(\u001b[0m\u001b[0mmshape\u001b[0m\u001b[0;34m)\u001b[0m\u001b[0;34m\u001b[0m\u001b[0;34m\u001b[0m\u001b[0m\n\u001b[1;32m    572\u001b[0m         \u001b[0mfspace\u001b[0m \u001b[0;34m=\u001b[0m \u001b[0mselection\u001b[0m\u001b[0;34m.\u001b[0m\u001b[0mid\u001b[0m\u001b[0;34m\u001b[0m\u001b[0;34m\u001b[0m\u001b[0m\n\u001b[0;32m--> 573\u001b[0;31m         \u001b[0mself\u001b[0m\u001b[0;34m.\u001b[0m\u001b[0mid\u001b[0m\u001b[0;34m.\u001b[0m\u001b[0mread\u001b[0m\u001b[0;34m(\u001b[0m\u001b[0mmspace\u001b[0m\u001b[0;34m,\u001b[0m \u001b[0mfspace\u001b[0m\u001b[0;34m,\u001b[0m \u001b[0marr\u001b[0m\u001b[0;34m,\u001b[0m \u001b[0mmtype\u001b[0m\u001b[0;34m,\u001b[0m \u001b[0mdxpl\u001b[0m\u001b[0;34m=\u001b[0m\u001b[0mself\u001b[0m\u001b[0;34m.\u001b[0m\u001b[0m_dxpl\u001b[0m\u001b[0;34m)\u001b[0m\u001b[0;34m\u001b[0m\u001b[0;34m\u001b[0m\u001b[0m\n\u001b[0m\u001b[1;32m    574\u001b[0m \u001b[0;34m\u001b[0m\u001b[0m\n\u001b[1;32m    575\u001b[0m         \u001b[0;31m# Patch up the output for NumPy\u001b[0m\u001b[0;34m\u001b[0m\u001b[0;34m\u001b[0m\u001b[0;34m\u001b[0m\u001b[0m\n",
      "\u001b[0;31mKeyboardInterrupt\u001b[0m: "
     ]
    }
   ],
   "source": [
    "importlib.reload(sc)\n",
    "#note: test data will only be loaded when model has to be tested\n",
    "x_train,y_train = sc.ReadFile(hdf5file ,split=False)\n",
    "x_test,y_test = sc.ReadFile(hdf5file,data='test',split=False)\n",
    "#Rotate x_train randomly\n",
    "x_train,rotatevector = sc.RandomRotateSamples(x_train)\n",
    "\n",
    "#Scale the Dataset\n",
    "x_train = sc.Scale(x_train)"
   ]
  },
  {
   "cell_type": "code",
   "execution_count": 26,
   "metadata": {},
   "outputs": [
    {
     "name": "stdout",
     "output_type": "stream",
     "text": [
      "> SHAPE:  (25600, 32, 32, 32, 3)\n",
      "> MEAN:  [0.16103153 0.16       0.16006407]\n",
      "> STDEV:  [0.98314345 1.1313708  1.1313862 ]\n"
     ]
    }
   ],
   "source": [
    "#Approx. mean 0 and stdev of 1. Should be sufficient\n",
    "\n",
    "print('> SHAPE: ',x_train.shape)\n",
    "print('> MEAN: ',np.mean(x_train,axis=(0,1,2,3)))\n",
    "print('> STDEV: ',np.std(x_train,axis=(0,1,2,3)))"
   ]
  },
  {
   "cell_type": "markdown",
   "metadata": {},
   "source": [
    "## Model-Building"
   ]
  },
  {
   "cell_type": "code",
   "execution_count": 47,
   "metadata": {},
   "outputs": [],
   "source": [
    "#Starting of with a sequential model\n",
    "input_shape = x_train.shape[1:]\n",
    "nclass = np.unique(y_train).size"
   ]
  },
  {
   "cell_type": "code",
   "execution_count": 38,
   "metadata": {},
   "outputs": [
    {
     "data": {
      "text/plain": [
       "(32, 32, 32, 3)"
      ]
     },
     "execution_count": 38,
     "metadata": {},
     "output_type": "execute_result"
    }
   ],
   "source": [
    "input_shape"
   ]
  },
  {
   "cell_type": "code",
   "execution_count": 50,
   "metadata": {},
   "outputs": [],
   "source": [
    "#Model of Stefano but on randomised data\n",
    "model = Sequential()\n",
    "model.add(Conv3D(16, (3, 3, 3), activation='relu', \n",
    "                        padding='same', name='conv1',\n",
    "                        strides=(1, 1, 1), \n",
    "                        input_shape=input_shape))\n",
    "model.add(MaxPooling3D(pool_size=(2, 2, 2), \n",
    "                       strides=(2, 2, 2), \n",
    "                       padding='same', \n",
    "                       name='pool1'))\n",
    "model.add(Conv3D(32, (3, 3, 3), activation='relu', \n",
    "                        padding='same', name='conv2',\n",
    "                        strides=(1, 1, 1)))\n",
    "model.add(MaxPooling3D(pool_size=(2, 2, 2), \n",
    "                       strides=(2, 2, 2), \n",
    "                       padding='same', \n",
    "                       name='pool2'))\n",
    "model.add(Conv3D(64, (3, 3, 3), activation='relu', \n",
    "                        padding='same', name='conv3a',\n",
    "                        strides=(1, 1, 1)))\n",
    "model.add(Conv3D(64, (3, 3, 3), activation='relu', \n",
    "                        padding='same', name='conv3b',\n",
    "                        strides=(1, 1, 1)))\n",
    "model.add(MaxPooling3D(pool_size=(2, 2, 2), \n",
    "                       strides=(2, 2, 2), \n",
    "                       padding='same', \n",
    "                       name='pool3'))\n",
    "model.add(Conv3D(128, (3, 3, 3), activation='relu', \n",
    "                        padding='same', name='conv4a',\n",
    "                        strides=(1, 1, 1)))\n",
    "model.add(Conv3D(128, (3, 3, 3), activation='relu', \n",
    "                        padding='same', name='conv4b',\n",
    "                        strides=(1, 1, 1)))\n",
    "model.add(MaxPooling3D(pool_size=(2, 2, 2), \n",
    "                       strides=(2, 2, 2), \n",
    "                       padding='same', \n",
    "                       name='pool4'))\n",
    "model.add(Conv3D(128, (3, 3, 3), activation='relu', \n",
    "                        padding='same', name='conv5a',\n",
    "                        strides=(1, 1, 1)))\n",
    "model.add(Conv3D(128, (3, 3, 3), activation='relu', \n",
    "                        padding='same', name='conv5b',\n",
    "                        strides=(1, 1, 1)))\n",
    "model.add(ZeroPadding3D(padding=(1, 1, 1)))\n",
    "model.add(MaxPooling3D(pool_size=(2, 2, 2), \n",
    "                       strides=(2, 2, 2), \n",
    "                       padding='same', \n",
    "                       name='pool5'))\n",
    "model.add(Flatten())\n",
    "model.add(Dense(1028, activation='relu', name='fc6'))\n",
    "model.add(Dropout(.5))\n",
    "model.add(Dense(1028, activation='relu', name='fc7'))\n",
    "model.add(Dropout(.5))\n",
    "model.add(Dense(nclass, activation='softmax', name='fc8'))"
   ]
  },
  {
   "cell_type": "code",
   "execution_count": null,
   "metadata": {},
   "outputs": [],
   "source": []
  }
 ],
 "metadata": {
  "kernelspec": {
   "display_name": "Python 3",
   "language": "python",
   "name": "python3"
  },
  "language_info": {
   "codemirror_mode": {
    "name": "ipython",
    "version": 3
   },
   "file_extension": ".py",
   "mimetype": "text/x-python",
   "name": "python",
   "nbconvert_exporter": "python",
   "pygments_lexer": "ipython3",
   "version": "3.6.9"
  }
 },
 "nbformat": 4,
 "nbformat_minor": 2
}
