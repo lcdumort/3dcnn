{
 "cells": [
  {
   "cell_type": "markdown",
   "metadata": {},
   "source": [
    "* code working => rotate in 1D\n",
    "* use 2D to train model\n",
    "* normalise everything (to have equal weight)\n",
    "* read about CNN => interprete the filters\n",
    "* calculate correlation function (not for all functions)\n",
    "* not use all lambdas => use in between to check\n",
    "* Q ~ $\\frac{2\\pi}{l}$, q ~ $ \\lambda_0$ => inelastic scattering"
   ]
  },
  {
   "cell_type": "code",
   "execution_count": 2,
   "metadata": {},
   "outputs": [
    {
     "name": "stdout",
     "output_type": "stream",
     "text": [
      "Currently using Python 3.6.9\n"
     ]
    }
   ],
   "source": [
    "#Should be version 3.6.9\n",
    "from platform import python_version\n",
    "print('Currently using Python',python_version())"
   ]
  },
  {
   "cell_type": "code",
   "execution_count": 3,
   "metadata": {},
   "outputs": [],
   "source": [
    "#importing libraries\n",
    "import h5py\n",
    "import numpy as np\n",
    "import matplotlib.pyplot as plt\n",
    "\n",
    "#path to the datafile\n",
    "hdf5_path = 'data/dataset.hdf5'"
   ]
  },
  {
   "cell_type": "code",
   "execution_count": 4,
   "metadata": {},
   "outputs": [],
   "source": [
    "#functions regarding reading and sampling.\n",
    "\n",
    "def ReadFile(hdf5_path):\n",
    "    '''\n",
    "    Reads in the hdf5-file and returns the training data-set and training labels\n",
    "    '''\n",
    "    with h5py.File(hdf5_path) as file:\n",
    "        train_sample = file['train_data'][:,:,:,:,:]\n",
    "        hydro_value = file['train_labels']\n",
    "        return train_sample, hydro_value\n",
    "\n",
    "    \n",
    "def GetRandomSamples(samples):\n",
    "    '''\n",
    "    Returns the requested amount of random samples\n",
    "    '''\n",
    "    \n",
    "    with h5py.File(hdf5_path) as file:\n",
    "        train_labels = file['train_labels'][:]\n",
    "    \n",
    "    return train_labels[np.random.randint(low=0,\n",
    "                                          high=train_labels.size,\n",
    "                                          size=samples)]\n",
    "        \n",
    "        \n",
    "def GetHydroSamples(hydro,samples):\n",
    "    '''\n",
    "    Returns random amount of samples with the demanded hydro-label in a numpy array\n",
    "    '''\n",
    "    \n",
    "    with h5py.File(hdf5_path) as file:\n",
    "        train_labels = file['train_labels'][:]\n",
    "        train_labels = np.where(train_labels == hydro)[0]\n",
    "\n",
    "    return train_labels[np.random.randint(low=0, high=train_labels.size,\n",
    "                                          size=samples)]"
   ]
  },
  {
   "cell_type": "code",
   "execution_count": null,
   "metadata": {},
   "outputs": [],
   "source": [
    "#necessary visualisation\n",
    "\n",
    "def TwoDimHeatmap(data,z,c,**kwargs):\n",
    "    '''\n",
    "    2D-heatmap in the X,Y-plane of the defined channel and Z-coordinate.\n",
    "    '''\n",
    "    data = data[:,:,z,c]\n",
    "    if 'ax' not in kwargs.keys():\n",
    "        fig,ax = plt.subplots(figsize=(7,7))\n",
    "    else:\n",
    "        ax = kwargs['ax']\n",
    "        \n",
    "    ax.set_title('z='+str(z)+',channel='+str(c))\n",
    "    ax.imshow(data)"
   ]
  }
 ],
 "metadata": {
  "kernelspec": {
   "display_name": "Python 3",
   "language": "python",
   "name": "python3"
  },
  "language_info": {
   "codemirror_mode": {
    "name": "ipython",
    "version": 3
   },
   "file_extension": ".py",
   "mimetype": "text/x-python",
   "name": "python",
   "nbconvert_exporter": "python",
   "pygments_lexer": "ipython3",
   "version": "3.6.9"
  }
 },
 "nbformat": 4,
 "nbformat_minor": 2
}
